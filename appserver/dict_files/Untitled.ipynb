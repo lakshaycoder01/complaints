{
 "cells": [
  {
   "cell_type": "code",
   "execution_count": 5,
   "metadata": {},
   "outputs": [
    {
     "name": "stdout",
     "output_type": "stream",
     "text": [
      "{'Credit Services': 0, 'Deduction': 1, 'Delinquent Payment': 2, 'Incorrect Information': 3, 'Online banking Services Problem': 4, 'Promotional Complaint': 5}\n",
      "{'Consumer Loan': 0, 'Credit reporting': 1, 'Credit/prepaid card': 2, 'Debt collection': 3, 'Mortgage': 4, 'Services': 5}\n"
     ]
    }
   ],
   "source": [
    "from pickle import load\n",
    "dicti=load(open('serdict.pkl','rb'))\n",
    "           \n",
    "print(dicti)\n",
    "           \n",
    "dict1=load(open('consumerdict.pkl','rb'))\n",
    "print(dict1)"
   ]
  },
  {
   "cell_type": "code",
   "execution_count": null,
   "metadata": {},
   "outputs": [],
   "source": []
  }
 ],
 "metadata": {
  "kernelspec": {
   "display_name": "Python 3",
   "language": "python",
   "name": "python3"
  },
  "language_info": {
   "codemirror_mode": {
    "name": "ipython",
    "version": 3
   },
   "file_extension": ".py",
   "mimetype": "text/x-python",
   "name": "python",
   "nbconvert_exporter": "python",
   "pygments_lexer": "ipython3",
   "version": "3.6.4"
  }
 },
 "nbformat": 4,
 "nbformat_minor": 2
}
